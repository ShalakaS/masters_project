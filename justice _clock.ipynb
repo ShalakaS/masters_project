{
 "cells": [
  {
   "cell_type": "code",
   "execution_count": 254,
   "id": "d2e0fb46",
   "metadata": {},
   "outputs": [],
   "source": [
    "import pandas as pd\n",
    "from playwright.async_api import async_playwright\n",
    "from tqdm.notebook import tqdm\n",
    "import time\n",
    "import pdb\n",
    "import csv\n",
    "from PIL import Image\n",
    "import requests\n",
    "import requests\n",
    "from bs4 import BeautifulSoup\n",
    "import pdb\n",
    "import random\n",
    "import asyncio\n",
    "from concurrent.futures import ThreadPoolExecutor\n",
    "from tqdm import tqdm"
   ]
  },
  {
   "cell_type": "code",
   "execution_count": 99,
   "id": "d22b5c70",
   "metadata": {},
   "outputs": [
    {
     "data": {
      "text/plain": [
       "2"
      ]
     },
     "execution_count": 99,
     "metadata": {},
     "output_type": "execute_result"
    }
   ],
   "source": [
    "list1 = [0.45, 1.5, 2, 1, 1.75, 2.5, 2.10]\n",
    "\n",
    "time_input = int(random.choice(list1))\n",
    "time_input"
   ]
  },
  {
   "cell_type": "code",
   "execution_count": 518,
   "id": "5b027984",
   "metadata": {},
   "outputs": [],
   "source": [
    "playwright = await async_playwright().start()\n",
    "browser = await playwright.chromium.launch(headless = True)\n",
    "page = await browser.new_page()"
   ]
  },
  {
   "cell_type": "code",
   "execution_count": 323,
   "id": "18ae2d84",
   "metadata": {},
   "outputs": [],
   "source": [
    "state_code = list(range(13,14))\n",
    "district_code = list(range(1,76))"
   ]
  },
  {
   "cell_type": "code",
   "execution_count": 324,
   "id": "4ac9dd97",
   "metadata": {},
   "outputs": [
    {
     "data": {
      "text/plain": [
       "1"
      ]
     },
     "execution_count": 324,
     "metadata": {},
     "output_type": "execute_result"
    }
   ],
   "source": [
    "len(state_code)"
   ]
  },
  {
   "cell_type": "code",
   "execution_count": 325,
   "id": "77bc71eb",
   "metadata": {},
   "outputs": [
    {
     "data": {
      "text/plain": [
       "75"
      ]
     },
     "execution_count": 325,
     "metadata": {},
     "output_type": "execute_result"
    }
   ],
   "source": [
    "len(district_code)"
   ]
  },
  {
   "cell_type": "code",
   "execution_count": 329,
   "id": "1c34922f",
   "metadata": {},
   "outputs": [],
   "source": [
    "state_code = list(range(13,14))\n",
    "district_code = list(range(1,76))\n",
    "def making_url_list(state_code, district_code):\n",
    "    list_of_urls = []\n",
    "    for each_state in state_code:\n",
    "        input1 = each_state\n",
    "        for each_district in district_code:\n",
    "            input2 = each_district\n",
    "            url_stitch = \"https://justiceclock.ecourts.gov.in/justiceClock/?p=home/district&fstate_code=\" \n",
    "            state_code = f\"{input1}\"\n",
    "            district_stitch = \"&fdist_code=\" \n",
    "            district_code = f\"{input2}\"\n",
    "            final_url = url_stitch + state_code + district_stitch + district_code\n",
    "            list_of_urls.append(final_url)\n",
    "    return list_of_urls"
   ]
  },
  {
   "cell_type": "code",
   "execution_count": 330,
   "id": "f66897b9",
   "metadata": {},
   "outputs": [],
   "source": [
    "urls = making_url_list(state_code, district_code)"
   ]
  },
  {
   "cell_type": "code",
   "execution_count": 513,
   "id": "2c68214c",
   "metadata": {},
   "outputs": [
    {
     "data": {
      "text/plain": [
       "75"
      ]
     },
     "execution_count": 513,
     "metadata": {},
     "output_type": "execute_result"
    }
   ],
   "source": [
    "len(urls)"
   ]
  },
  {
   "cell_type": "code",
   "execution_count": 374,
   "id": "47d17f2a",
   "metadata": {},
   "outputs": [
    {
     "data": {
      "text/plain": [
       "'https://justiceclock.ecourts.gov.in/justiceClock/?p=home/district&fstate_code=13&fdist_code=9'"
      ]
     },
     "execution_count": 374,
     "metadata": {},
     "output_type": "execute_result"
    }
   ],
   "source": [
    "urls[8]"
   ]
  },
  {
   "cell_type": "code",
   "execution_count": 505,
   "id": "8b4b19c9",
   "metadata": {},
   "outputs": [],
   "source": [
    "# list_of_lists = []"
   ]
  },
  {
   "cell_type": "code",
   "execution_count": 543,
   "id": "64131d5d",
   "metadata": {},
   "outputs": [],
   "source": [
    "async def simpler_justice_clock(urls):\n",
    "    for url in urls:\n",
    "        await page.goto(url)\n",
    "        time.sleep(5)\n",
    "        try:\n",
    "            await page.locator('#toggleBtn').click()\n",
    "        except:\n",
    "            div_element = page.locator(\"div\")\n",
    "#             for div_element in div_elements:\n",
    "            inner_text = div_element.inner_text()\n",
    "        # Check if the inner text matches the target content\n",
    "            if inner_text == \"Access Denied...!!!\":\n",
    "                print(inner_text)\n",
    "                continue\n",
    "        try:\n",
    "            await page.wait_for_selector(\".table\")\n",
    "        except:\n",
    "            continue\n",
    "        time.sleep(time_input)\n",
    "        table_text = await page.locator(\".table\").inner_text()\n",
    "        time.sleep(time_input)\n",
    "        age = table_text.split()\n",
    "        time.sleep(time_input)\n",
    "        state_text = await page.locator(\"#sp_state\").inner_text()\n",
    "        if len(state_text) > 0:\n",
    "            state_name = state_text.split(\"OF \")[1].title()\n",
    "            age.append(state_name)\n",
    "        else:\n",
    "            continue\n",
    "        time.sleep(time_input)        \n",
    "        district_text = await page.locator('#fest_code option').all_text_contents()  \n",
    "        time.sleep(time_input)\n",
    "        district_name = district_text[0].split(\",\")[0]\n",
    "        district = district_name.split(\"-\")[1].title()\n",
    "        age.append(district)\n",
    "        print(\"it has reached here\")\n",
    "        if age in list_of_lists:\n",
    "            print(\"district done\")\n",
    "            continue\n",
    "        else:\n",
    "            list_of_lists.append(age)\n",
    "    return"
   ]
  },
  {
   "cell_type": "code",
   "execution_count": 546,
   "id": "52bbbf26",
   "metadata": {},
   "outputs": [
    {
     "name": "stdout",
     "output_type": "stream",
     "text": [
      "it has reached here\n",
      "it has reached here\n",
      "district done\n",
      "it has reached here\n",
      "district done\n",
      "it has reached here\n",
      "district done\n",
      "it has reached here\n",
      "district done\n",
      "it has reached here\n",
      "it has reached here\n",
      "district done\n",
      "it has reached here\n",
      "district done\n",
      "it has reached here\n",
      "district done\n",
      "it has reached here\n",
      "district done\n",
      "it has reached here\n",
      "district done\n",
      "it has reached here\n",
      "district done\n",
      "it has reached here\n",
      "district done\n",
      "it has reached here\n",
      "district done\n",
      "it has reached here\n",
      "district done\n",
      "it has reached here\n",
      "district done\n",
      "it has reached here\n",
      "district done\n",
      "it has reached here\n",
      "district done\n",
      "it has reached here\n",
      "district done\n",
      "it has reached here\n",
      "district done\n",
      "it has reached here\n",
      "district done\n",
      "it has reached here\n",
      "district done\n",
      "it has reached here\n",
      "district done\n",
      "it has reached here\n",
      "it has reached here\n",
      "district done\n",
      "it has reached here\n",
      "district done\n",
      "it has reached here\n",
      "district done\n",
      "it has reached here\n",
      "it has reached here\n",
      "district done\n",
      "it has reached here\n",
      "it has reached here\n",
      "district done\n",
      "it has reached here\n",
      "it has reached here\n",
      "district done\n",
      "it has reached here\n",
      "it has reached here\n",
      "district done\n",
      "it has reached here\n",
      "it has reached here\n",
      "district done\n",
      "it has reached here\n",
      "district done\n",
      "it has reached here\n",
      "district done\n",
      "it has reached here\n",
      "it has reached here\n",
      "it has reached here\n",
      "district done\n",
      "it has reached here\n",
      "it has reached here\n",
      "it has reached here\n",
      "it has reached here\n",
      "it has reached here\n",
      "district done\n",
      "it has reached here\n",
      "district done\n",
      "it has reached here\n",
      "it has reached here\n",
      "it has reached here\n",
      "district done\n",
      "it has reached here\n",
      "district done\n",
      "it has reached here\n",
      "it has reached here\n",
      "it has reached here\n",
      "district done\n",
      "it has reached here\n",
      "district done\n",
      "it has reached here\n",
      "it has reached here\n",
      "district done\n",
      "it has reached here\n",
      "district done\n",
      "it has reached here\n",
      "district done\n",
      "it has reached here\n",
      "district done\n",
      "it has reached here\n",
      "it has reached here\n",
      "district done\n",
      "it has reached here\n"
     ]
    }
   ],
   "source": [
    "await simpler_justice_clock(urls)"
   ]
  },
  {
   "cell_type": "code",
   "execution_count": 547,
   "id": "c2ef6470",
   "metadata": {},
   "outputs": [
    {
     "data": {
      "text/plain": [
       "90"
      ]
     },
     "execution_count": 547,
     "metadata": {},
     "output_type": "execute_result"
    }
   ],
   "source": [
    "len(list_of_lists)"
   ]
  },
  {
   "cell_type": "code",
   "execution_count": 598,
   "id": "c912c7c9",
   "metadata": {},
   "outputs": [],
   "source": [
    "list_of_dictionaries = []"
   ]
  },
  {
   "cell_type": "code",
   "execution_count": 599,
   "id": "04852c27",
   "metadata": {},
   "outputs": [],
   "source": [
    "for age1 in list_of_lists:\n",
    "    age_dict = {}\n",
    "    age_dict['state'] = age1[30]\n",
    "    age_dict['district'] = age1[31]\n",
    "    age_dict[age1[5]] = age1[6]\n",
    "    age_dict[age1[8]] = age1[9]\n",
    "    age_dict[age1[11]] = age1[12]\n",
    "    age_dict[age1[14]] = age1[15]\n",
    "    age_dict[age1[17]] = age1[18]\n",
    "    age_dict[age1[20]] = age1[21]\n",
    "    age_dict[age1[23]+age1[24]] = age1[25]\n",
    "    age_dict[age1[27]] = age1[28]\n",
    "    list_of_dictionaries.append(age_dict)"
   ]
  },
  {
   "cell_type": "code",
   "execution_count": 600,
   "id": "230ac0c6",
   "metadata": {},
   "outputs": [
    {
     "data": {
      "text/html": [
       "<div>\n",
       "<style scoped>\n",
       "    .dataframe tbody tr th:only-of-type {\n",
       "        vertical-align: middle;\n",
       "    }\n",
       "\n",
       "    .dataframe tbody tr th {\n",
       "        vertical-align: top;\n",
       "    }\n",
       "\n",
       "    .dataframe thead th {\n",
       "        text-align: right;\n",
       "    }\n",
       "</style>\n",
       "<table border=\"1\" class=\"dataframe\">\n",
       "  <thead>\n",
       "    <tr style=\"text-align: right;\">\n",
       "      <th></th>\n",
       "      <th>state</th>\n",
       "      <th>district</th>\n",
       "      <th>0-1</th>\n",
       "      <th>2-3</th>\n",
       "      <th>4-5</th>\n",
       "      <th>6-10</th>\n",
       "      <th>11-20</th>\n",
       "      <th>21-30</th>\n",
       "      <th>Above30</th>\n",
       "      <th>Total</th>\n",
       "      <th>...</th>\n",
       "      <th>74</th>\n",
       "      <th>72%</th>\n",
       "      <th>4425</th>\n",
       "      <th>65%</th>\n",
       "      <th>174</th>\n",
       "      <th>4046</th>\n",
       "      <th>105%</th>\n",
       "      <th>33</th>\n",
       "      <th>17%</th>\n",
       "      <th>1769</th>\n",
       "    </tr>\n",
       "  </thead>\n",
       "  <tbody>\n",
       "    <tr>\n",
       "      <th>0</th>\n",
       "      <td>Uttar Pradesh</td>\n",
       "      <td>Allahabad</td>\n",
       "      <td>51417</td>\n",
       "      <td>61473</td>\n",
       "      <td>50023</td>\n",
       "      <td>82823</td>\n",
       "      <td>73661</td>\n",
       "      <td>15851</td>\n",
       "      <td>1899</td>\n",
       "      <td>337147</td>\n",
       "      <td>...</td>\n",
       "      <td>NaN</td>\n",
       "      <td>NaN</td>\n",
       "      <td>NaN</td>\n",
       "      <td>NaN</td>\n",
       "      <td>NaN</td>\n",
       "      <td>NaN</td>\n",
       "      <td>NaN</td>\n",
       "      <td>NaN</td>\n",
       "      <td>NaN</td>\n",
       "      <td>NaN</td>\n",
       "    </tr>\n",
       "    <tr>\n",
       "      <th>1</th>\n",
       "      <td>85274</td>\n",
       "      <td>78306</td>\n",
       "      <td>NaN</td>\n",
       "      <td>NaN</td>\n",
       "      <td>NaN</td>\n",
       "      <td>NaN</td>\n",
       "      <td>NaN</td>\n",
       "      <td>NaN</td>\n",
       "      <td>NaN</td>\n",
       "      <td>NaN</td>\n",
       "      <td>...</td>\n",
       "      <td>NaN</td>\n",
       "      <td>NaN</td>\n",
       "      <td>NaN</td>\n",
       "      <td>NaN</td>\n",
       "      <td>NaN</td>\n",
       "      <td>NaN</td>\n",
       "      <td>NaN</td>\n",
       "      <td>NaN</td>\n",
       "      <td>NaN</td>\n",
       "      <td>NaN</td>\n",
       "    </tr>\n",
       "    <tr>\n",
       "      <th>2</th>\n",
       "      <td>Uttar Pradesh</td>\n",
       "      <td>Gorakhpur</td>\n",
       "      <td>63402</td>\n",
       "      <td>58408</td>\n",
       "      <td>28055</td>\n",
       "      <td>63964</td>\n",
       "      <td>45401</td>\n",
       "      <td>10051</td>\n",
       "      <td>1287</td>\n",
       "      <td>270568</td>\n",
       "      <td>...</td>\n",
       "      <td>NaN</td>\n",
       "      <td>NaN</td>\n",
       "      <td>NaN</td>\n",
       "      <td>NaN</td>\n",
       "      <td>NaN</td>\n",
       "      <td>NaN</td>\n",
       "      <td>NaN</td>\n",
       "      <td>NaN</td>\n",
       "      <td>NaN</td>\n",
       "      <td>NaN</td>\n",
       "    </tr>\n",
       "    <tr>\n",
       "      <th>3</th>\n",
       "      <td>Uttar Pradesh</td>\n",
       "      <td>Hardoi</td>\n",
       "      <td>52294</td>\n",
       "      <td>26377</td>\n",
       "      <td>27983</td>\n",
       "      <td>27454</td>\n",
       "      <td>25526</td>\n",
       "      <td>1385</td>\n",
       "      <td>227</td>\n",
       "      <td>161246</td>\n",
       "      <td>...</td>\n",
       "      <td>NaN</td>\n",
       "      <td>NaN</td>\n",
       "      <td>NaN</td>\n",
       "      <td>NaN</td>\n",
       "      <td>NaN</td>\n",
       "      <td>NaN</td>\n",
       "      <td>NaN</td>\n",
       "      <td>NaN</td>\n",
       "      <td>NaN</td>\n",
       "      <td>NaN</td>\n",
       "    </tr>\n",
       "    <tr>\n",
       "      <th>4</th>\n",
       "      <td>Uttar Pradesh</td>\n",
       "      <td>Chitrakoot</td>\n",
       "      <td>10422</td>\n",
       "      <td>8034</td>\n",
       "      <td>6545</td>\n",
       "      <td>5057</td>\n",
       "      <td>1472</td>\n",
       "      <td>48</td>\n",
       "      <td>7</td>\n",
       "      <td>31585</td>\n",
       "      <td>...</td>\n",
       "      <td>NaN</td>\n",
       "      <td>NaN</td>\n",
       "      <td>NaN</td>\n",
       "      <td>NaN</td>\n",
       "      <td>NaN</td>\n",
       "      <td>NaN</td>\n",
       "      <td>NaN</td>\n",
       "      <td>NaN</td>\n",
       "      <td>NaN</td>\n",
       "      <td>NaN</td>\n",
       "    </tr>\n",
       "  </tbody>\n",
       "</table>\n",
       "<p>5 rows × 103 columns</p>\n",
       "</div>"
      ],
      "text/plain": [
       "           state    district    0-1    2-3    4-5   6-10  11-20  21-30  \\\n",
       "0  Uttar Pradesh   Allahabad  51417  61473  50023  82823  73661  15851   \n",
       "1          85274       78306    NaN    NaN    NaN    NaN    NaN    NaN   \n",
       "2  Uttar Pradesh   Gorakhpur  63402  58408  28055  63964  45401  10051   \n",
       "3  Uttar Pradesh      Hardoi  52294  26377  27983  27454  25526   1385   \n",
       "4  Uttar Pradesh  Chitrakoot  10422   8034   6545   5057   1472     48   \n",
       "\n",
       "  Above30   Total  ...   74  72% 4425  65%  174 4046 105%   33  17% 1769  \n",
       "0    1899  337147  ...  NaN  NaN  NaN  NaN  NaN  NaN  NaN  NaN  NaN  NaN  \n",
       "1     NaN     NaN  ...  NaN  NaN  NaN  NaN  NaN  NaN  NaN  NaN  NaN  NaN  \n",
       "2    1287  270568  ...  NaN  NaN  NaN  NaN  NaN  NaN  NaN  NaN  NaN  NaN  \n",
       "3     227  161246  ...  NaN  NaN  NaN  NaN  NaN  NaN  NaN  NaN  NaN  NaN  \n",
       "4       7   31585  ...  NaN  NaN  NaN  NaN  NaN  NaN  NaN  NaN  NaN  NaN  \n",
       "\n",
       "[5 rows x 103 columns]"
      ]
     },
     "execution_count": 600,
     "metadata": {},
     "output_type": "execute_result"
    }
   ],
   "source": [
    "df = pd.DataFrame(list_of_dictionaries)\n",
    "df.head()"
   ]
  },
  {
   "cell_type": "code",
   "execution_count": 601,
   "id": "da6ad5d8",
   "metadata": {},
   "outputs": [],
   "source": [
    "df[df['district'].str.isalpha()].reset_index(drop=True).to_csv(\"rough_justice_clock_scrape.csv\", index=False)"
   ]
  },
  {
   "cell_type": "code",
   "execution_count": 603,
   "id": "62cd9351",
   "metadata": {},
   "outputs": [],
   "source": [
    "df_auto = pd.read_csv(\"rough_justice_clock_scrape.csv\", usecols=[\"0-1\",\"2-3\",\"4-5\",\"6-10\",\"11-20\", \"21-30\", \"Above30\",\"Total\", \"state\", \"district\"])\n",
    "df_auto.to_csv(\"masters_project/justice_clock_for_autoupdating.csv\", index=False)"
   ]
  }
 ],
 "metadata": {
  "kernelspec": {
   "display_name": "Python 3.11.0 64-bit ('3.11.0')",
   "language": "python",
   "name": "python3"
  },
  "language_info": {
   "codemirror_mode": {
    "name": "ipython",
    "version": 3
   },
   "file_extension": ".py",
   "mimetype": "text/x-python",
   "name": "python",
   "nbconvert_exporter": "python",
   "pygments_lexer": "ipython3",
   "version": "3.11.0"
  },
  "vscode": {
   "interpreter": {
    "hash": "17e5d70426f3720fe3a5113ba25c6c80b9c5eb566f26e70a3302ec4bfa9ae510"
   }
  }
 },
 "nbformat": 4,
 "nbformat_minor": 5
}
